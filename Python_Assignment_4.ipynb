{
 "cells": [
  {
   "cell_type": "code",
   "execution_count": 18,
   "id": "646b888a",
   "metadata": {},
   "outputs": [
    {
     "name": "stdout",
     "output_type": "stream",
     "text": [
      "4134711838987085478833841242112000\n"
     ]
    }
   ],
   "source": [
    "from functools import reduce\n",
    "\n",
    "list1 = [1,2,3,4, [44,55,66, True], False, (34,56,78,89,34), {1,2,3,3,2,1}, {1:34, \"key2\": [55, 67, 78, 89], 4: (45,\n",
    "22, 61, 34)}, [56, 'data science'], 'Machine Learning']\n",
    "\n",
    "def fn(list1):\n",
    "    new_l = []\n",
    "    for i in list1:\n",
    "        if type(i) == int:\n",
    "            new_l.append(i)\n",
    "        elif type(i) == list or type(i) == tuple or type(i) == set:\n",
    "            for j in i:\n",
    "                if type(j) == int:\n",
    "                    new_l.append(j)\n",
    "\n",
    "        elif type(i) == dict:\n",
    "            for key,value in i.items():\n",
    "                if type(key) == int:\n",
    "                    new_l.append(key)\n",
    "                if type(value) == int:\n",
    "                    new_l.append(value)\n",
    "                elif type(value) == list or type(value) == tuple or type(value) == set:\n",
    "                    for j in value:\n",
    "                        if type(j) == int:\n",
    "                            new_l.append(j)\n",
    "                    \n",
    "    #print(new_l)\n",
    "    print(reduce(lambda x,y: x*y,new_l))\n",
    "    \n",
    "fn(list1)"
   ]
  },
  {
   "cell_type": "code",
   "execution_count": 21,
   "id": "23f84eca",
   "metadata": {},
   "outputs": [
    {
     "name": "stdout",
     "output_type": "stream",
     "text": [
      "i$wznt$to$yexome$z$dztz$sxientist.\n"
     ]
    }
   ],
   "source": [
    "l = 'I want to become a Data Scientist.'\n",
    "replacements={'a':'z','b':'y','c':'x',' ':'$'}\n",
    "r_c = [replacements.get(char,char) for char in l.lower()]\n",
    "l1 = ''.join(r_c)\n",
    "print(l1)"
   ]
  }
 ],
 "metadata": {
  "kernelspec": {
   "display_name": "Python 3 (ipykernel)",
   "language": "python",
   "name": "python3"
  },
  "language_info": {
   "codemirror_mode": {
    "name": "ipython",
    "version": 3
   },
   "file_extension": ".py",
   "mimetype": "text/x-python",
   "name": "python",
   "nbconvert_exporter": "python",
   "pygments_lexer": "ipython3",
   "version": "3.10.2"
  }
 },
 "nbformat": 4,
 "nbformat_minor": 5
}

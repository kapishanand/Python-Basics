{
 "cells": [
  {
   "cell_type": "code",
   "execution_count": 12,
   "id": "4f2f6a31",
   "metadata": {},
   "outputs": [
    {
     "name": "stdout",
     "output_type": "stream",
     "text": [
      "Enter the percentage99\n",
      "Grade A\n"
     ]
    }
   ],
   "source": [
    "# Program to accept percentage from user and return grade\n",
    "def percentage(x):\n",
    "    if x >90:\n",
    "        print('Grade A')\n",
    "    elif x > 80 and x <=90:\n",
    "        print('Grade B')\n",
    "    elif x >= 60 and x <=80:\n",
    "        print('Grade C')\n",
    "    else:\n",
    "        print('Grade D')\n",
    "        \n",
    "percentage(int(input('Enter the percentage')))"
   ]
  },
  {
   "cell_type": "code",
   "execution_count": 13,
   "id": "4750208e",
   "metadata": {},
   "outputs": [
    {
     "name": "stdout",
     "output_type": "stream",
     "text": [
      "Enter the cost of bike10\n",
      "0.5\n"
     ]
    }
   ],
   "source": [
    "# Program to accept cost price of a bike and display road tax\n",
    "def cost_of_bike(x):\n",
    "    if x > 100000:\n",
    "        print(.15*x)\n",
    "    elif x > 50000 and x <= 100000:\n",
    "        print(.1*x)\n",
    "    else:\n",
    "        print(0.05*x)\n",
    "        \n",
    "cost_of_bike(int(input('Enter the cost of bike')))"
   ]
  },
  {
   "cell_type": "code",
   "execution_count": 14,
   "id": "912f2fa1",
   "metadata": {},
   "outputs": [
    {
     "name": "stdout",
     "output_type": "stream",
     "text": [
      "Jal Mahal\n"
     ]
    }
   ],
   "source": [
    "# Program to accept city and display monument\n",
    "def monument(city):\n",
    "    if city == 'Delhi':\n",
    "        print('Red Fort')\n",
    "    elif city == 'Agra':\n",
    "        print('Taj Mahal')\n",
    "    elif city == 'Jaipur':\n",
    "        print('Jal Mahal')\n",
    "        \n",
    "monument('Jaipur')"
   ]
  },
  {
   "cell_type": "code",
   "execution_count": 15,
   "id": "db132310",
   "metadata": {},
   "outputs": [
    {
     "name": "stdout",
     "output_type": "stream",
     "text": [
      "2\n"
     ]
    }
   ],
   "source": [
    "# Check how many times a given number can be divided by 3 before it is leass than or equal to 10\n",
    "def accept_num(x):\n",
    "    if x  <= 10:\n",
    "        print(str(x)+' is less than or equal to 10')\n",
    "        return 0\n",
    "    else:\n",
    "        y=x\n",
    "        cnt=0\n",
    "        if y %3 == 0:\n",
    "            cnt+=1\n",
    "            while (y/3) % 3 == 0 and (y/3) >10:\n",
    "                cnt +=1\n",
    "                y=y/3\n",
    "        return cnt\n",
    "    \n",
    "print(accept_num(81))"
   ]
  },
  {
   "cell_type": "code",
   "execution_count": 16,
   "id": "a186a1e3",
   "metadata": {},
   "outputs": [
    {
     "name": "stdout",
     "output_type": "stream",
     "text": [
      "2\n"
     ]
    }
   ],
   "source": [
    "# We should use while loop when we are not sure how many times the loop will run\n",
    "\n",
    "# In below example we need to find how many times a number is divisible by 3 before it becomes leass than or equal to 10\n",
    "\n",
    "def accept_num(x):\n",
    "    if x  <= 10:\n",
    "        print(str(x)+' is less than or equal to 10')\n",
    "        return 0\n",
    "    else:\n",
    "        y=x\n",
    "        cnt=0\n",
    "        if y %3 == 0:\n",
    "            cnt+=1\n",
    "            while (y/3) % 3 == 0 and (y/3) >10:\n",
    "                cnt +=1\n",
    "                y=y/3\n",
    "        return cnt\n",
    "    \n",
    "print(accept_num(81))"
   ]
  },
  {
   "cell_type": "code",
   "execution_count": 17,
   "id": "debc356c",
   "metadata": {},
   "outputs": [
    {
     "name": "stdout",
     "output_type": "stream",
     "text": [
      "1 \n",
      "1 2 \n",
      "1 2 3 \n",
      "1 2 3 4 \n",
      "1 2 3 4 5 \n"
     ]
    }
   ],
   "source": [
    "# Nested while loop to print pattern\n",
    "i=1\n",
    "while i <=5:\n",
    "   j=1\n",
    "   while j <=i:\n",
    "        print(j,end=' ')\n",
    "        j+=1\n",
    "   print()\n",
    "   i+=1"
   ]
  },
  {
   "cell_type": "code",
   "execution_count": 18,
   "id": "9f8114c0",
   "metadata": {},
   "outputs": [
    {
     "name": "stdout",
     "output_type": "stream",
     "text": [
      "5 4 3 2 1 \n",
      "5 4 3 2 \n",
      "5 4 3 \n",
      "5 4 \n",
      "5 \n"
     ]
    }
   ],
   "source": [
    "# Nested while loop to print pattern\n",
    "i=1\n",
    "while i <=5:\n",
    "    j=5\n",
    "    while j>=i:\n",
    "        print(j,end=' ')\n",
    "        j -= 1\n",
    "    print()\n",
    "    i += 1"
   ]
  },
  {
   "cell_type": "code",
   "execution_count": 19,
   "id": "1b6853e4",
   "metadata": {},
   "outputs": [
    {
     "name": "stdout",
     "output_type": "stream",
     "text": [
      "10 9 8 7 6 5 4 3 2 1 "
     ]
    }
   ],
   "source": [
    "# Reverse a while loop to print numbers from 10 to 1\n",
    "\n",
    "i=10\n",
    "while i >0:\n",
    "    print(i,end=' ')\n",
    "    i-=1"
   ]
  }
 ],
 "metadata": {
  "kernelspec": {
   "display_name": "Python 3 (ipykernel)",
   "language": "python",
   "name": "python3"
  },
  "language_info": {
   "codemirror_mode": {
    "name": "ipython",
    "version": 3
   },
   "file_extension": ".py",
   "mimetype": "text/x-python",
   "name": "python",
   "nbconvert_exporter": "python",
   "pygments_lexer": "ipython3",
   "version": "3.10.2"
  }
 },
 "nbformat": 4,
 "nbformat_minor": 5
}

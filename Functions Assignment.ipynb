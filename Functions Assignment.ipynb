{
 "cells": [
  {
   "cell_type": "code",
   "execution_count": 1,
   "id": "0ee123e1",
   "metadata": {},
   "outputs": [
    {
     "data": {
      "text/plain": [
       "[1, 3, 5, 7, 9, 11, 13, 15, 17, 19, 21, 23, 25]"
      ]
     },
     "execution_count": 1,
     "metadata": {},
     "output_type": "execute_result"
    }
   ],
   "source": [
    "#def keyword is used to create a function\n",
    "\n",
    "def fn_odd():\n",
    "    lst=[]\n",
    "    for i in range(1,26):\n",
    "        if i %2 !=0:\n",
    "            lst.append(i)\n",
    "            \n",
    "    return lst\n",
    "\n",
    "fn_odd()"
   ]
  },
  {
   "cell_type": "code",
   "execution_count": 11,
   "id": "4e5f9559",
   "metadata": {},
   "outputs": [
    {
     "name": "stdout",
     "output_type": "stream",
     "text": [
      "24\n",
      "720\n",
      "z a\n",
      "y b\n",
      "x c\n",
      "\n",
      "a z\n",
      "b y\n",
      "c x\n",
      "d w\n"
     ]
    }
   ],
   "source": [
    "# *args is non keyword argument\n",
    "# **kwargs is keyword argument\n",
    "# Both are used to send variable number of arguments to a dfunction\n",
    "\n",
    "def mul(*args):\n",
    "    sum=1\n",
    "    for i in args:\n",
    "        sum = sum*i\n",
    "        \n",
    "    return sum\n",
    "\n",
    "print(mul(1,2,3,4))\n",
    "print(mul(1,2,3,4,5,6))\n",
    "\n",
    "def kw(**kwargs):\n",
    "    for i,j in kwargs.items():\n",
    "        print(i,j)\n",
    "\n",
    "kw(z='a',y='b',x='c')\n",
    "print()\n",
    "kw(a='z',b='y',c='x',d='w')"
   ]
  },
  {
   "cell_type": "code",
   "execution_count": 12,
   "id": "e13e89ed",
   "metadata": {},
   "outputs": [
    {
     "name": "stdout",
     "output_type": "stream",
     "text": [
      "2\n",
      "4\n",
      "6\n",
      "8\n",
      "10\n"
     ]
    }
   ],
   "source": [
    "# Iterator is an object that is used to iterate over iterable objects like list, dictionary.\n",
    "# iter() is used to initialize the iterator object \n",
    "# next() is used for iteration\n",
    "\n",
    "lst=[2,4,6,8,10,12,14,16,18,20]\n",
    "\n",
    "iterat = iter(lst)\n",
    "for i in range(5):\n",
    "    print(next(iterat))"
   ]
  },
  {
   "cell_type": "code",
   "execution_count": 15,
   "id": "a27f4790",
   "metadata": {},
   "outputs": [
    {
     "name": "stdout",
     "output_type": "stream",
     "text": [
      "1\n",
      "2\n",
      "3\n"
     ]
    }
   ],
   "source": [
    "# Generator function is a function that uses yield to return a value rather than return keyword\n",
    "# Yield keyword when used within a function suspends the execution of the function and returns the value \\\n",
    "# but also stores the last state of the function so that when the function is called again, it starts from where \\\n",
    "# it left off.\n",
    "\n",
    "def gen():\n",
    "    yield 1\n",
    "    yield 2\n",
    "    yield 3\n",
    "    \n",
    "for i in gen():\n",
    "    print(i)"
   ]
  },
  {
   "cell_type": "code",
   "execution_count": 18,
   "id": "8ad8849e",
   "metadata": {},
   "outputs": [
    {
     "name": "stdout",
     "output_type": "stream",
     "text": [
      "2\n",
      "3\n",
      "4\n",
      "5\n",
      "7\n",
      "11\n",
      "13\n",
      "17\n",
      "19\n",
      "23\n",
      "29\n",
      "31\n",
      "37\n",
      "41\n",
      "43\n",
      "47\n",
      "53\n",
      "59\n",
      "61\n",
      "67\n"
     ]
    }
   ],
   "source": [
    "# Generator function for prime numbers less than 1000\n",
    "def gen(n):\n",
    "    for i in range(2,n+1):\n",
    "        for j in range(2,(i+1)//2):\n",
    "            if i %j == 0:\n",
    "                break\n",
    "        else:\n",
    "            yield i\n",
    "            \n",
    "x=gen(1000)\n",
    "\n",
    "for i in range(20):\n",
    "    print(next(x))"
   ]
  }
 ],
 "metadata": {
  "kernelspec": {
   "display_name": "Python 3 (ipykernel)",
   "language": "python",
   "name": "python3"
  },
  "language_info": {
   "codemirror_mode": {
    "name": "ipython",
    "version": 3
   },
   "file_extension": ".py",
   "mimetype": "text/x-python",
   "name": "python",
   "nbconvert_exporter": "python",
   "pygments_lexer": "ipython3",
   "version": "3.10.2"
  }
 },
 "nbformat": 4,
 "nbformat_minor": 5
}

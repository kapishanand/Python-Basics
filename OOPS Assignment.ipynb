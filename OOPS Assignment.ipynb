{
 "cells": [
  {
   "cell_type": "code",
   "execution_count": 1,
   "id": "822af3af",
   "metadata": {},
   "outputs": [
    {
     "name": "stdout",
     "output_type": "stream",
     "text": [
      "yellow\n"
     ]
    }
   ],
   "source": [
    "# Class is a container of attributes, methods\n",
    "# Object inherits the properties of a Class\n",
    "class Car:\n",
    "    \n",
    "    def __init__(self,color):\n",
    "        self.color = color\n",
    "        \n",
    "    def print_color(self):\n",
    "        print(self.color)\n",
    "        \n",
    "a=Car('yellow')\n",
    "a.print_color()"
   ]
  },
  {
   "cell_type": "code",
   "execution_count": null,
   "id": "25804887",
   "metadata": {},
   "outputs": [],
   "source": [
    "# Four pillars of OOPs are inheritance, polymorphism, Abstraction and Encapsulation\n",
    "\n",
    "# Inheritance --> One class can inherit properties of another class\n",
    "# Polymorphism --> It means that there can be multiple methods having same name but different set of input parameters\n",
    "# Abstraction --> It means hiding sensitive information from users.\n",
    "# Encapsulation --> Example of encapsulation is a Class that encapsulates all the methods and variables"
   ]
  },
  {
   "cell_type": "code",
   "execution_count": null,
   "id": "b250f327",
   "metadata": {},
   "outputs": [],
   "source": [
    "# __init__() function in a class is a constructor of the class which runs everytime object of the class is created.\n",
    "# In below class, as soon as we create object a of Class Car, value 'yellow' is assigned to variable 'color' \\\n",
    "# of the class Car without explicitly calling the __init__() method\n",
    "\n",
    "class Car:\n",
    "    \n",
    "    def __init__(self,color):\n",
    "        self.color = color\n",
    "        \n",
    "    def print_color(self):\n",
    "        print(self.color)\n",
    "        \n",
    "a=Car('yellow')\n",
    "a.print_color()"
   ]
  },
  {
   "cell_type": "code",
   "execution_count": null,
   "id": "dfe492ad",
   "metadata": {},
   "outputs": [],
   "source": [
    "# self is used in OOPs to refer to the current instance of the class and is used to access variables \\\n",
    "# that belong to the class "
   ]
  },
  {
   "cell_type": "code",
   "execution_count": 4,
   "id": "fa55be7a",
   "metadata": {},
   "outputs": [
    {
     "name": "stdout",
     "output_type": "stream",
     "text": [
      "Base1\n",
      "Derived\n",
      "Hello\n"
     ]
    }
   ],
   "source": [
    "# Inheritance --> One class can inherit properties of another class\n",
    "# Types of inheritance\n",
    "# Single Inheritance\n",
    "class Base1():\n",
    "    def __init__(self):\n",
    "        self.str1 = 'Hello'\n",
    "        print('Base1')\n",
    "        \n",
    "class Derived(Base1):\n",
    "    def __init__(self):\n",
    "        Base1.__init__(self)\n",
    "        print('Derived')\n",
    "        \n",
    "    def print_var(self):\n",
    "        print(self.str1)\n",
    "        \n",
    "obj = Derived()\n",
    "obj.print_var()"
   ]
  },
  {
   "cell_type": "code",
   "execution_count": 6,
   "id": "8a561260",
   "metadata": {},
   "outputs": [
    {
     "name": "stdout",
     "output_type": "stream",
     "text": [
      "Base1\n",
      "Base2\n",
      "Derived\n",
      "Hello\n",
      "How are you\n"
     ]
    }
   ],
   "source": [
    "# Multiple Inheritance\n",
    "\n",
    "class Base1():\n",
    "    def __init__(self):\n",
    "        self.str1 = 'Hello'\n",
    "        print('Base1')\n",
    "        \n",
    "class Base2():\n",
    "    def __init__(self):\n",
    "        self.str2 = 'How are you'\n",
    "        print('Base2')\n",
    "        \n",
    "class Derived(Base1,Base2):\n",
    "    def __init__(self):\n",
    "        Base1.__init__(self)\n",
    "        Base2.__init__(self)\n",
    "        print('Derived')\n",
    "        \n",
    "    def print_var(self):\n",
    "        print(self.str1) \n",
    "        print(self.str2)\n",
    "        \n",
    "obj=Derived()\n",
    "obj.print_var()"
   ]
  },
  {
   "cell_type": "code",
   "execution_count": 7,
   "id": "ff393c69",
   "metadata": {},
   "outputs": [
    {
     "name": "stdout",
     "output_type": "stream",
     "text": [
      "Base1\n",
      "child1\n",
      "grandchild1\n",
      "Hello How are you\n"
     ]
    }
   ],
   "source": [
    "# Multiple Inheritance\n",
    "\n",
    "class Base1():\n",
    "    def __init__(self):\n",
    "        self.str1 = 'Hello'\n",
    "        print('Base1')\n",
    "        \n",
    "class child1(Base1):\n",
    "    def __init__(self):\n",
    "        Base1.__init__(self)\n",
    "        self.str2='How are you'\n",
    "        print('child1')\n",
    "        \n",
    "class grandchild1(child1):\n",
    "    def __init__(self):\n",
    "        child1.__init__(self)\n",
    "        print('grandchild1')\n",
    "        \n",
    "    def print_var(self):\n",
    "        print(self.str1,self.str2)\n",
    "        \n",
    "obj=grandchild1()\n",
    "obj.print_var()"
   ]
  },
  {
   "cell_type": "code",
   "execution_count": 13,
   "id": "89df7403",
   "metadata": {},
   "outputs": [
    {
     "name": "stdout",
     "output_type": "stream",
     "text": [
      "Base1\n",
      "child1\n",
      "Hello\n",
      "Hello\n",
      "---------\n",
      "Base1\n",
      "child2\n",
      "Hello\n",
      "Hello\n",
      "---------\n",
      "Base1\n",
      "child3\n",
      "Hello\n",
      "Hello\n"
     ]
    }
   ],
   "source": [
    "# Hierarchial Inheritance\n",
    "\n",
    "class Base1():\n",
    "    def __init__(self):\n",
    "        self.str1='Hello'\n",
    "        print('Base1')\n",
    "        \n",
    "class child1(Base1):\n",
    "    def __init__(self):\n",
    "        Base1.__init__(self)\n",
    "        print('child1')\n",
    "        \n",
    "    def print_var(self):\n",
    "        print(self.str1)\n",
    "        \n",
    "class child2(Base1):\n",
    "    def __init__(self):\n",
    "        Base1.__init__(self)\n",
    "        print('child2')\n",
    "        \n",
    "    def print_var(self):\n",
    "        print(self.str1)\n",
    "        \n",
    "class child3(Base1):\n",
    "    def __init__(self):\n",
    "        Base1.__init__(self)\n",
    "        print('child3')\n",
    "        \n",
    "    def print_var(self):\n",
    "        print(self.str1)\n",
    "        \n",
    "obj1=child1()\n",
    "obj1.print_var()\n",
    "print(obj1.str1)\n",
    "print('---------')\n",
    "obj2=child2()\n",
    "obj2.print_var()\n",
    "print(obj2.str1)\n",
    "print('---------')\n",
    "obj3=child3()\n",
    "obj3.print_var()\n",
    "print(obj3.str1)"
   ]
  },
  {
   "cell_type": "code",
   "execution_count": 11,
   "id": "8dc6f313",
   "metadata": {},
   "outputs": [
    {
     "name": "stdout",
     "output_type": "stream",
     "text": [
      "School\n",
      "Student1\n"
     ]
    }
   ],
   "source": [
    "# Hybrid Inheritance\n",
    "\n",
    "class School:\n",
    "    def f1(self):\n",
    "        print('School')\n",
    "        \n",
    "class Student1(School):\n",
    "    def f2(self):\n",
    "        print('Student1')\n",
    "        \n",
    "class Student2(School):\n",
    "    def f3(self):\n",
    "        print('Student2')\n",
    "        \n",
    "class Student3(Student1,School):\n",
    "    def f4(self):\n",
    "        print('Student3')\n",
    "        \n",
    "obj=Student3()\n",
    "obj.f1()\n",
    "obj.f2()"
   ]
  }
 ],
 "metadata": {
  "kernelspec": {
   "display_name": "Python 3 (ipykernel)",
   "language": "python",
   "name": "python3"
  },
  "language_info": {
   "codemirror_mode": {
    "name": "ipython",
    "version": 3
   },
   "file_extension": ".py",
   "mimetype": "text/x-python",
   "name": "python",
   "nbconvert_exporter": "python",
   "pygments_lexer": "ipython3",
   "version": "3.10.2"
  }
 },
 "nbformat": 4,
 "nbformat_minor": 5
}

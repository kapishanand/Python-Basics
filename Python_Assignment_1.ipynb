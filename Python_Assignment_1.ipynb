{
 "cells": [
  {
   "cell_type": "code",
   "execution_count": 4,
   "id": "b236124a",
   "metadata": {},
   "outputs": [
    {
     "data": {
      "text/plain": [
       "[('Virat Kohli', 24936),\n",
       " ('Jack Kallis', 25534),\n",
       " ('Ricky Ponting', 27483),\n",
       " ('Sachin Tendulkar', 34357)]"
      ]
     },
     "execution_count": 4,
     "metadata": {},
     "output_type": "execute_result"
    }
   ],
   "source": [
    "# a python program to sort the given list of tuples based on integer value using a lambda function.\n",
    "\n",
    "lst =[('Sachin Tendulkar', 34357), ('Ricky Ponting', 27483), ('Jack Kallis', 25534), ('Virat Kohli', 24936)]\n",
    "\n",
    "sorted(lst,key=lambda x : x[1])"
   ]
  },
  {
   "cell_type": "code",
   "execution_count": 6,
   "id": "f8b42605",
   "metadata": {},
   "outputs": [
    {
     "name": "stdout",
     "output_type": "stream",
     "text": [
      "[1, 4, 9, 16, 25, 36, 49, 64, 81, 100]\n"
     ]
    }
   ],
   "source": [
    "# Python Program to find the squares of all the numbers in the given list of integers using lambda and map functions.\n",
    "lst = [1, 2, 3, 4, 5, 6, 7, 8, 9, 10]\n",
    "\n",
    "print(list(map(lambda x: x*x, lst)))"
   ]
  },
  {
   "cell_type": "code",
   "execution_count": 7,
   "id": "89112b21",
   "metadata": {},
   "outputs": [
    {
     "name": "stdout",
     "output_type": "stream",
     "text": [
      "('1', '2', '3', '4', '5', '6', '7', '8', '9', '10')\n"
     ]
    }
   ],
   "source": [
    "# python program to convert the given list of integers into a tuple of strings. Use map and lambda functions\n",
    "lst =[1, 2, 3, 4, 5, 6, 7, 8, 9, 10]\n",
    "\n",
    "print(tuple(map(lambda x: str(x),lst)))\n"
   ]
  },
  {
   "cell_type": "code",
   "execution_count": 16,
   "id": "fecbe659",
   "metadata": {},
   "outputs": [
    {
     "name": "stdout",
     "output_type": "stream",
     "text": [
      "[1, 2, 3, 4, 5, 6, 7, 8, 9, 10, 11, 12, 13, 14, 15, 16, 17, 18, 19, 20, 21, 22, 23, 24, 25]\n",
      "15511210043330985984000000\n"
     ]
    }
   ],
   "source": [
    "# python program using reduce function to compute the product of a list containing numbers from 1 to 25.\n",
    "lst=list(range(1,26))\n",
    "from functools import reduce\n",
    "print(reduce((lambda x, y : x * y) ,lst))"
   ]
  },
  {
   "cell_type": "code",
   "execution_count": 18,
   "id": "00ad9406",
   "metadata": {},
   "outputs": [
    {
     "name": "stdout",
     "output_type": "stream",
     "text": [
      "[6, 60, 90, 120]\n"
     ]
    }
   ],
   "source": [
    "# python program to filter the numbers in a given list that are divisible by 2 and 3 using the filter function.\n",
    "lst = [2, 3, 6, 9, 27, 60, 90, 120, 55, 46]\n",
    "\n",
    "print(list(filter(lambda x : (x % 2 == 0) & (x % 3 == 0) ,lst)))"
   ]
  },
  {
   "cell_type": "code",
   "execution_count": 19,
   "id": "f4759bc0",
   "metadata": {},
   "outputs": [
    {
     "name": "stdout",
     "output_type": "stream",
     "text": [
      "['php', 'aba', 'radar', 'level']\n"
     ]
    }
   ],
   "source": [
    "# python program to find palindromes in the given list of strings using lambda and filter function.\n",
    "lst = ['python', 'php', 'aba', 'radar', 'level']\n",
    "\n",
    "print(list(filter(lambda x: (x[:] == x[::-1]),lst)))"
   ]
  }
 ],
 "metadata": {
  "kernelspec": {
   "display_name": "Python 3 (ipykernel)",
   "language": "python",
   "name": "python3"
  },
  "language_info": {
   "codemirror_mode": {
    "name": "ipython",
    "version": 3
   },
   "file_extension": ".py",
   "mimetype": "text/x-python",
   "name": "python",
   "nbconvert_exporter": "python",
   "pygments_lexer": "ipython3",
   "version": "3.10.2"
  }
 },
 "nbformat": 4,
 "nbformat_minor": 5
}

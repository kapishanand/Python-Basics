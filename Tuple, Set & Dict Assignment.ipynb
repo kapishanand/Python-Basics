{
 "cells": [
  {
   "cell_type": "code",
   "execution_count": null,
   "id": "0bdb6fa4",
   "metadata": {},
   "outputs": [],
   "source": [
    "## Characteristics of tuples in python\n",
    "1.tuples are enclosed in round braces e.g t=(1,2,3)\n",
    "2.tuples are immutable, means you cannot update any element of tuple or append data to a tuple\n",
    "3.tuples are used to define something which remains constant throught out the execution of the program.\n",
    "4.tuples are indexed, ordered, can containe duplicate elements."
   ]
  },
  {
   "cell_type": "code",
   "execution_count": 7,
   "id": "77dbf5fc",
   "metadata": {},
   "outputs": [],
   "source": [
    "t=(1,2,3)"
   ]
  },
  {
   "cell_type": "code",
   "execution_count": null,
   "id": "c27a69cc",
   "metadata": {},
   "outputs": [],
   "source": [
    "# Tuple methods in python\n",
    "1.Index() --> t.index(3)\n",
    "2.count() --> t.count(3)\n",
    "\n",
    "tuples have only two in-built methods as compared to Lists as its immutable."
   ]
  },
  {
   "cell_type": "code",
   "execution_count": null,
   "id": "9c30567d",
   "metadata": {},
   "outputs": [],
   "source": [
    "#collection datatypes in python do not allow duplicate items\n",
    "1.set"
   ]
  },
  {
   "cell_type": "code",
   "execution_count": 9,
   "id": "4c04b5eb",
   "metadata": {},
   "outputs": [
    {
     "name": "stdout",
     "output_type": "stream",
     "text": [
      "{1, 2, 3, 4}\n"
     ]
    }
   ],
   "source": [
    "List = [1, 1, 1, 2, 1, 3, 1, 4, 2, 1, 2, 2, 2, 3, 2, 4, 3, 1, 3, 2, 3, 3, 3, 4, 4, 1, 4, 2, 4, 3, 4, 4]\n",
    "print(set(List))"
   ]
  },
  {
   "cell_type": "code",
   "execution_count": null,
   "id": "437cd027",
   "metadata": {},
   "outputs": [],
   "source": [
    "#difference between the union() and update() methods for a set.\n",
    "1.update() --> Used to add new elements to a set\n",
    "2.union()  --> Used to combine elements from 2 sets without duplicates"
   ]
  },
  {
   "cell_type": "code",
   "execution_count": 10,
   "id": "ff1cd529",
   "metadata": {},
   "outputs": [],
   "source": [
    "set1={1,2,3}\n",
    "set2={1,4,5}"
   ]
  },
  {
   "cell_type": "code",
   "execution_count": 11,
   "id": "8cf58e52",
   "metadata": {},
   "outputs": [
    {
     "data": {
      "text/plain": [
       "{1, 2, 3, 4, 5}"
      ]
     },
     "execution_count": 11,
     "metadata": {},
     "output_type": "execute_result"
    }
   ],
   "source": [
    "set1.union(set2)"
   ]
  },
  {
   "cell_type": "code",
   "execution_count": 12,
   "id": "7b8258c9",
   "metadata": {},
   "outputs": [
    {
     "name": "stdout",
     "output_type": "stream",
     "text": [
      "{1, 2, 3, 10, 11}\n"
     ]
    }
   ],
   "source": [
    "set1.update({10,11})\n",
    "print(set1)"
   ]
  },
  {
   "cell_type": "code",
   "execution_count": null,
   "id": "ec18e02c",
   "metadata": {},
   "outputs": [],
   "source": [
    "#What is a dictionary? Give an example. Also, state whether a dictionary is ordered or unordered.\n",
    "1.Dictionary is a key value pair\n",
    "2.d={'a':1,'b':2,'c':3}\n",
    "3.dictionary is unordered"
   ]
  },
  {
   "cell_type": "code",
   "execution_count": null,
   "id": "ba41e3db",
   "metadata": {},
   "outputs": [],
   "source": [
    "# Can we create a nested dictionary? If so, please give an example by creating a simple one-level nested dictionary.\n",
    "1.Yes we can create a nested dictionary."
   ]
  },
  {
   "cell_type": "code",
   "execution_count": 14,
   "id": "ee5d42b9",
   "metadata": {},
   "outputs": [
    {
     "name": "stdout",
     "output_type": "stream",
     "text": [
      "{'a': 1, 'b': 2, 'c': {'d': 4, 'e': 5}}\n"
     ]
    }
   ],
   "source": [
    "d={'a':1,'b':2,'c':{'d':4,'e':5}}\n",
    "print(d)"
   ]
  },
  {
   "cell_type": "code",
   "execution_count": null,
   "id": "869b0029",
   "metadata": {},
   "outputs": [],
   "source": [
    "# Using setdefault() method"
   ]
  },
  {
   "cell_type": "code",
   "execution_count": 19,
   "id": "05318228",
   "metadata": {},
   "outputs": [],
   "source": [
    "dict1 = {'language' : 'Python', 'course': 'Data Science Masters'}"
   ]
  },
  {
   "cell_type": "code",
   "execution_count": 20,
   "id": "2fc96e36",
   "metadata": {},
   "outputs": [
    {
     "data": {
      "text/plain": [
       "'Data Science Masters'"
      ]
     },
     "execution_count": 20,
     "metadata": {},
     "output_type": "execute_result"
    }
   ],
   "source": [
    "dict1.setdefault('course', ('Machine Learning', 'Deep Learning'))"
   ]
  },
  {
   "cell_type": "code",
   "execution_count": 21,
   "id": "1097390e",
   "metadata": {},
   "outputs": [
    {
     "data": {
      "text/plain": [
       "{'language': 'Python', 'course': 'Data Science Masters'}"
      ]
     },
     "execution_count": 21,
     "metadata": {},
     "output_type": "execute_result"
    }
   ],
   "source": [
    "dict1"
   ]
  },
  {
   "cell_type": "code",
   "execution_count": null,
   "id": "6cd0b088",
   "metadata": {},
   "outputs": [],
   "source": [
    "#What are the three view objects in dictionaries"
   ]
  },
  {
   "cell_type": "code",
   "execution_count": 22,
   "id": "ee23db0f",
   "metadata": {},
   "outputs": [],
   "source": [
    "dict1 = {'Sport': 'Cricket' , 'Teams': ['India', 'Australia', 'England', 'South Africa', 'Sri Lanka', 'New Zealand']}"
   ]
  },
  {
   "cell_type": "code",
   "execution_count": 23,
   "id": "8030b58a",
   "metadata": {},
   "outputs": [
    {
     "data": {
      "text/plain": [
       "dict_keys(['Sport', 'Teams'])"
      ]
     },
     "execution_count": 23,
     "metadata": {},
     "output_type": "execute_result"
    }
   ],
   "source": [
    "dict1.keys()"
   ]
  },
  {
   "cell_type": "code",
   "execution_count": 24,
   "id": "d4707065",
   "metadata": {},
   "outputs": [
    {
     "data": {
      "text/plain": [
       "dict_values(['Cricket', ['India', 'Australia', 'England', 'South Africa', 'Sri Lanka', 'New Zealand']])"
      ]
     },
     "execution_count": 24,
     "metadata": {},
     "output_type": "execute_result"
    }
   ],
   "source": [
    "dict1.values()"
   ]
  },
  {
   "cell_type": "code",
   "execution_count": 25,
   "id": "01383881",
   "metadata": {},
   "outputs": [
    {
     "data": {
      "text/plain": [
       "dict_items([('Sport', 'Cricket'), ('Teams', ['India', 'Australia', 'England', 'South Africa', 'Sri Lanka', 'New Zealand'])])"
      ]
     },
     "execution_count": 25,
     "metadata": {},
     "output_type": "execute_result"
    }
   ],
   "source": [
    "dict1.items()"
   ]
  }
 ],
 "metadata": {
  "kernelspec": {
   "display_name": "Python 3 (ipykernel)",
   "language": "python",
   "name": "python3"
  },
  "language_info": {
   "codemirror_mode": {
    "name": "ipython",
    "version": 3
   },
   "file_extension": ".py",
   "mimetype": "text/x-python",
   "name": "python",
   "nbconvert_exporter": "python",
   "pygments_lexer": "ipython3",
   "version": "3.10.2"
  }
 },
 "nbformat": 4,
 "nbformat_minor": 5
}

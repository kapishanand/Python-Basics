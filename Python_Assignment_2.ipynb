{
 "cells": [
  {
   "cell_type": "code",
   "execution_count": null,
   "id": "a4c26881",
   "metadata": {},
   "outputs": [],
   "source": [
    "# Python was developed by Guido Van Rossum"
   ]
  },
  {
   "cell_type": "code",
   "execution_count": null,
   "id": "e1985dd9",
   "metadata": {},
   "outputs": [],
   "source": [
    "# Python supports OOPS type of programming"
   ]
  },
  {
   "cell_type": "code",
   "execution_count": null,
   "id": "19badc10",
   "metadata": {},
   "outputs": [],
   "source": [
    "# Python is case sensitive while dealing with identifiers"
   ]
  },
  {
   "cell_type": "code",
   "execution_count": null,
   "id": "de5fda36",
   "metadata": {},
   "outputs": [],
   "source": [
    "# .py is the correct extension of python file"
   ]
  },
  {
   "cell_type": "code",
   "execution_count": null,
   "id": "4cffeb69",
   "metadata": {},
   "outputs": [],
   "source": [
    "# Python is interpreted language as source code of Python is converted into bytecode and then is executed by Python \\\n",
    "# virtual machine"
   ]
  },
  {
   "cell_type": "code",
   "execution_count": null,
   "id": "a875ce40",
   "metadata": {},
   "outputs": [],
   "source": [
    "# Blocks of code in python are modules, function body and class definition."
   ]
  },
  {
   "cell_type": "code",
   "execution_count": null,
   "id": "ca5566ac",
   "metadata": {},
   "outputs": [],
   "source": [
    "# Single line comment in python is given by hash(#)"
   ]
  },
  {
   "cell_type": "code",
   "execution_count": 7,
   "id": "adca54eb",
   "metadata": {},
   "outputs": [
    {
     "name": "stdout",
     "output_type": "stream",
     "text": [
      "3.10.2 (tags/v3.10.2:a58ebcc, Jan 17 2022, 14:12:15) [MSC v.1929 64 bit (AMD64)]\n",
      "3.10.2\n"
     ]
    }
   ],
   "source": [
    "# Command to find python version\n",
    "import sys\n",
    "print(sys.version)\n",
    "\n",
    "from platform import python_version\n",
    "print(python_version())"
   ]
  },
  {
   "cell_type": "code",
   "execution_count": null,
   "id": "4d5b22bb",
   "metadata": {},
   "outputs": [],
   "source": [
    "# Python supports the creation of anonymous functions at runtime, using a construct called lambda"
   ]
  },
  {
   "cell_type": "code",
   "execution_count": null,
   "id": "91466059",
   "metadata": {},
   "outputs": [],
   "source": [
    "# pip stands for pip install packages. It is tool for installing python packages."
   ]
  },
  {
   "cell_type": "code",
   "execution_count": null,
   "id": "f4fb65fe",
   "metadata": {},
   "outputs": [],
   "source": [
    "# Built in functions in Python\n",
    "lower()\n",
    "upper()\n",
    "str()\n",
    "list()\n",
    "sorted()"
   ]
  },
  {
   "cell_type": "code",
   "execution_count": 1,
   "id": "68a6cccf",
   "metadata": {},
   "outputs": [],
   "source": [
    "# Maximum possible length of an identifeir in python is unlimited length"
   ]
  },
  {
   "cell_type": "code",
   "execution_count": 23,
   "id": "093d16ff",
   "metadata": {},
   "outputs": [
    {
     "data": {
      "text/plain": [
       "81"
      ]
     },
     "execution_count": 23,
     "metadata": {},
     "output_type": "execute_result"
    }
   ],
   "source": [
    "# Benefits of using Python are\n",
    "\n",
    "# Open Source\n",
    "# Easy to understand\n",
    "# Object oriented language\n",
    "# Portable across different OS\n",
    "# Extensive support of libraries"
   ]
  },
  {
   "cell_type": "code",
   "execution_count": 24,
   "id": "48d5dfd6",
   "metadata": {},
   "outputs": [],
   "source": [
    "# Memory management in python is automatic\n",
    "\n"
   ]
  },
  {
   "cell_type": "code",
   "execution_count": null,
   "id": "52a40ab0",
   "metadata": {},
   "outputs": [],
   "source": [
    "# How to install python in Windows and set path variables\n",
    "\n",
    "# Download python.exe from www.python.org and install on windows machine\n",
    "# Locate where python.exe is located and add this location in environment variable 'path'"
   ]
  },
  {
   "cell_type": "code",
   "execution_count": null,
   "id": "884cd1fa",
   "metadata": {},
   "outputs": [],
   "source": [
    "# Indendation is required in python"
   ]
  }
 ],
 "metadata": {
  "kernelspec": {
   "display_name": "Python 3 (ipykernel)",
   "language": "python",
   "name": "python3"
  },
  "language_info": {
   "codemirror_mode": {
    "name": "ipython",
    "version": 3
   },
   "file_extension": ".py",
   "mimetype": "text/x-python",
   "name": "python",
   "nbconvert_exporter": "python",
   "pygments_lexer": "ipython3",
   "version": "3.10.2"
  }
 },
 "nbformat": 4,
 "nbformat_minor": 5
}
